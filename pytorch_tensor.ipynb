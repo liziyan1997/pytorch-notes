{
 "nbformat": 4,
 "nbformat_minor": 2,
 "metadata": {
  "language_info": {
   "name": "python",
   "codemirror_mode": {
    "name": "ipython",
    "version": 3
   },
   "version": "3.6.9"
  },
  "orig_nbformat": 2,
  "file_extension": ".py",
  "mimetype": "text/x-python",
  "name": "python",
  "npconvert_exporter": "python",
  "pygments_lexer": "ipython3",
  "version": 3
 },
 "cells": [
  {
   "cell_type": "code",
   "execution_count": 1,
   "metadata": {},
   "outputs": [],
   "source": [
    "import torch"
   ]
  },
  {
   "cell_type": "code",
   "execution_count": 25,
   "metadata": {},
   "outputs": [
    {
     "name": "stdout",
     "output_type": "stream",
     "text": "tensor([[1., 2.],\n        [3., 4.],\n        [5., 6.]])\ntensor([[1, 2],\n        [3, 4],\n        [5, 6]], dtype=torch.int32)\ntorch.Size([3, 2])\n"
    }
   ],
   "source": [
    "# 创建张量tensor\n",
    "a = torch.Tensor([[1,2],[3,4],[5,6]])\n",
    "a_int = a.int()\n",
    "print(a)\n",
    "print(a_int)\n",
    "print(a.size())"
   ]
  },
  {
   "cell_type": "code",
   "execution_count": 20,
   "metadata": {},
   "outputs": [
    {
     "name": "stdout",
     "output_type": "stream",
     "text": "tensor([[0., 0., 0., 0.],\n        [0., 0., 0., 0.],\n        [0., 0., 0., 0.]])\ntensor([[1., 1., 1., 1., 1.],\n        [1., 1., 1., 1., 1.],\n        [1., 1., 1., 1., 1.],\n        [1., 1., 1., 1., 1.],\n        [1., 1., 1., 1., 1.]])\ntensor([[1., 1.],\n        [1., 1.],\n        [1., 1.]])\n"
    }
   ],
   "source": [
    "# 创建全0和全1张量\n",
    "b = torch.zeros(3,4)\n",
    "print(b)\n",
    "c = torch.ones(5,5)\n",
    "print(c)\n",
    "# 创建size和a相同的全1张量\n",
    "d = torch.ones_like(a)\n",
    "print(d)"
   ]
  },
  {
   "cell_type": "code",
   "execution_count": 16,
   "metadata": {},
   "outputs": [
    {
     "name": "stdout",
     "output_type": "stream",
     "text": "[[1. 2.]\n [3. 4.]\n [5. 6.]]\ntensor([[1., 2.],\n        [3., 4.],\n        [5., 6.]])\n"
    }
   ],
   "source": [
    "# tensor和numpy之间的转换\n",
    "a_numpy = a.numpy()\n",
    "print(a_numpy)\n",
    "\n",
    "a_tensor = torch.from_numpy(a_numpy)\n",
    "print(a_tensor)"
   ]
  },
  {
   "cell_type": "code",
   "execution_count": 22,
   "metadata": {},
   "outputs": [
    {
     "name": "stdout",
     "output_type": "stream",
     "text": "tensor([[1., 2.],\n        [3., 4.],\n        [5., 6.]], device='cuda:0')\ntensor([[1., 2.],\n        [3., 4.],\n        [5., 6.]])\n"
    }
   ],
   "source": [
    "# 将tensor送入gpu送回cpu的方法1\n",
    "if torch.cuda.is_available():\n",
    "    a_cuda_1 = a.cuda()\n",
    "print(a_cuda_1)\n",
    "a_cpu_1 = a_cuda_1.cpu()\n",
    "print(a_cpu_1)"
   ]
  },
  {
   "cell_type": "code",
   "execution_count": 23,
   "metadata": {},
   "outputs": [
    {
     "name": "stdout",
     "output_type": "stream",
     "text": "tensor([[1., 2.],\n        [3., 4.],\n        [5., 6.]], device='cuda:0')\ntensor([[1., 2.],\n        [3., 4.],\n        [5., 6.]])\n"
    }
   ],
   "source": [
    "# 将tensor送入gpu送回cpu的方法2\n",
    "device=torch.device(\"cuda:0\" if torch.cuda.is_available() else \"cpu\")\n",
    "a_cuda_2 = a.to(device)\n",
    "print(a_cuda_2)\n",
    "a_cpu_2 = a_cuda_2.to(torch.device('cpu'))\n",
    "print(a_cpu_2)"
   ]
  },
  {
   "cell_type": "code",
   "execution_count": null,
   "metadata": {},
   "outputs": [],
   "source": []
  }
 ]
}