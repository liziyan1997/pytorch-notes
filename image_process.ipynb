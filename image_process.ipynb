{
 "cells": [
  {
   "cell_type": "markdown",
   "metadata": {},
   "source": [
    "# 图片处理\n",
    "## 使用PIL读取图片，使用torchvision.transforms处理图片\n",
    "reference:https://pytorch.org/docs/stable/torchvision/transforms.html#torchvision-transforms"
   ]
  },
  {
   "cell_type": "code",
   "execution_count": null,
   "metadata": {},
   "outputs": [],
   "source": [
    "from PIL import Image\n",
    "import matplotlib.pyplot as plt\n",
    "import numpy as np\n",
    "import torchvision\n",
    "import torchvision.transforms as transforms\n",
    "import sys"
   ]
  },
  {
   "cell_type": "markdown",
   "metadata": {},
   "source": [
    "## 使用PIL打开图片并使用matplotlib把图片展示出来"
   ]
  },
  {
   "cell_type": "code",
   "execution_count": null,
   "metadata": {},
   "outputs": [],
   "source": [
    "img = Image.open('scene.jpeg').convert('RGB') # 加上convert防止有些4通道图片导致问题\n",
    "# 我使用的图片是H*W=1200*1920的RGB3通道图片\n",
    "print(type(img))\n",
    "print(img.size)\n",
    "\n",
    "plt.imshow(img)"
   ]
  },
  {
   "cell_type": "markdown",
   "metadata": {},
   "source": [
    "## 使用array的形式展示图片，可以看到图片的shape是1920×1080，RGB三通道"
   ]
  },
  {
   "cell_type": "code",
   "execution_count": null,
   "metadata": {},
   "outputs": [],
   "source": [
    "img_array = np.array(img)\n",
    "print(img_array.shape)\n",
    "plt.imshow(img_array)"
   ]
  },
  {
   "cell_type": "markdown",
   "metadata": {},
   "source": [
    "## 使用PIL的resize可以很方便的改变图片的shape"
   ]
  },
  {
   "cell_type": "code",
   "execution_count": null,
   "metadata": {},
   "outputs": [],
   "source": [
    "img_resized = img.resize((224,224))\n",
    "plt.imshow(img_resized)"
   ]
  },
  {
   "cell_type": "markdown",
   "metadata": {},
   "source": [
    "## 使用transform的CenterCrop类可以实现从图片中心进行切割\n",
    "参数为裁剪尺寸的tuple"
   ]
  },
  {
   "cell_type": "code",
   "execution_count": null,
   "metadata": {},
   "outputs": [],
   "source": [
    "cenercrop = transforms.CenterCrop(size=(224,224)) # 参数也可以是整数,表示size为int*int的正方形裁剪\n",
    "img_1 = cenercrop(img)\n",
    "plt.imshow(img_1)"
   ]
  },
  {
   "cell_type": "markdown",
   "metadata": {},
   "source": [
    "## Grayscale:Convert image to grayscale. 将图片转换成灰度图\n",
    "参数设置为3时打印为灰色，设置为1不是灰色，没有搞懂<br>\n",
    "Grayscale version of the input. - If num_output_channels == 1 : returned image is single channel - If num_output_channels == 3 : returned image is 3 channel with r == g == b"
   ]
  },
  {
   "cell_type": "code",
   "execution_count": null,
   "metadata": {},
   "outputs": [],
   "source": [
    "grayscale = transforms.Grayscale(num_output_channels=3)\n",
    "img_2 = grayscale(img)\n",
    "plt.imshow(img_2)"
   ]
  },
  {
   "cell_type": "markdown",
   "metadata": {},
   "source": [
    "打印灰度图和原图的一些像素值，发现发生了改变"
   ]
  },
  {
   "cell_type": "code",
   "execution_count": null,
   "metadata": {},
   "outputs": [],
   "source": [
    "gray_array = np.array(img_2)\n",
    "print(gray_array[600,900:1000,0])\n",
    "print(img_array[600,900:1000,0])"
   ]
  },
  {
   "cell_type": "markdown",
   "metadata": {},
   "source": [
    "## Pad:Pad the given PIL Image on all sides with the given “pad” value. 在图片周围填充\n",
    "处理对象是PIL image. <br>\n",
    "在图片周围填充第一个参数控制填充参数填充，第二个参数控制填充的像素值"
   ]
  },
  {
   "cell_type": "code",
   "execution_count": null,
   "metadata": {},
   "outputs": [],
   "source": [
    "padding = transforms.Pad(padding=10, fill=(0,0,0))\n",
    "img_3 = padding(img)\n",
    "plt.imshow(img_3)\n",
    "print(img_3.size)\n",
    "\n",
    "pad_array = np.array(img_3)\n",
    "print(pad_array[0,:10,:].reshape(1,-1))"
   ]
  },
  {
   "cell_type": "markdown",
   "metadata": {},
   "source": [
    "## Resize:Resize the input PIL Image to the given size.  改变图片大小\n",
    "处理对象是PIL image. <br>\n",
    "第一个参数为size，第二个参数为插值方法，默认使用双线性插值. <br>\n",
    "区别于crop：crop为裁剪，resize为把图片变形."
   ]
  },
  {
   "cell_type": "code",
   "execution_count": null,
   "metadata": {},
   "outputs": [],
   "source": [
    "resize = transforms.Resize((200,200), interpolation=2)\n",
    "img_4 = resize(img)\n",
    "plt.imshow(img_4)\n",
    "print(img_4.size)"
   ]
  },
  {
   "cell_type": "markdown",
   "metadata": {},
   "source": [
    "## RandomHorizontalFlip:Horizontally flip the given PIL Image randomly with a given probability.  随机水平翻转图片\n",
    "处理对象是PIL image. <br>\n",
    "参数p为翻转概率，这里为了看到翻转图片所以设置为1，使用时可以使用0.5或其他值. <br>\n",
    "RandomVerticalFlip(p=0.5) 随机垂直翻转图片，使用方法相同"
   ]
  },
  {
   "cell_type": "code",
   "execution_count": null,
   "metadata": {},
   "outputs": [],
   "source": [
    "hflip = transforms.RandomHorizontalFlip(p=1)\n",
    "img_5 = hflip(img)\n",
    "plt.imshow(img_5)"
   ]
  },
  {
   "cell_type": "markdown",
   "metadata": {},
   "source": [
    "## RandomRotation: Rotate the image by angle. 以随机角度旋转图片\n",
    "处理对象是PIL image. <br>\n",
    "图片旋转的角度从第一个参数中随机选择，如果输入为一个数字，则从（-degree,+degree)中随机选择. <br>\n",
    "expend=True则会改变图片尺寸来使得整张图片能被容纳."
   ]
  },
  {
   "cell_type": "code",
   "execution_count": null,
   "metadata": {},
   "outputs": [],
   "source": [
    "rotate = transforms.RandomRotation(degrees=(-30,30), resample=False, expand=False, center=None)\n",
    "img_6 = rotate(img)\n",
    "plt.imshow(img_6)"
   ]
  },
  {
   "cell_type": "markdown",
   "metadata": {},
   "source": [
    "## RandomCrop: Crop the given PIL Image at a random location. 随机位置裁剪图片\n",
    "size:裁剪后尺寸 <br>\n",
    "padding:四周填充像素宽度 <br>\n",
    "fill: 填充像素值 <br>"
   ]
  },
  {
   "cell_type": "code",
   "execution_count": null,
   "metadata": {},
   "outputs": [],
   "source": [
    "randCrop = transforms.RandomCrop(size=(1200,1920), padding=100, pad_if_needed=False, \n",
    "                                 fill=(0,0,0), padding_mode='constant')\n",
    "img_7 = randCrop(img)\n",
    "plt.imshow(img_7)"
   ]
  },
  {
   "cell_type": "markdown",
   "metadata": {},
   "source": [
    "## ToTensor: Convert a PIL Image or numpy.ndarray to tensor. 将图片转换成tensor\n",
    "\n",
    "Converts a PIL Image or numpy.ndarray (H x W x C) in the range [0, 255] to a torch.FloatTensor of shape (C x H x W) in the range [0.0, 1.0] if the PIL Image belongs to one of the modes (L, LA, P, I, F, RGB, YCbCr, RGBA, CMYK, 1) or if the numpy.ndarray has dtype = np.uint8 <br><br>\n",
    "处理对象是PIL image. <br>\n",
    "\n",
    "1.PIL或者ndarray通道数在后，转化成tensor后通道数在前; <br>\n",
    "2.数据范围转换为[0.0,1.0]."
   ]
  },
  {
   "cell_type": "code",
   "execution_count": null,
   "metadata": {},
   "outputs": [],
   "source": [
    "to_tensor = transforms.ToTensor()\n",
    "img_tensor = to_tensor(img)\n",
    "print(type(img_tensor))\n",
    "print(img_tensor.size())\n",
    "print('{} in ndarray and {} in tensor'.format(img_array[500,500,0],img_tensor[0,500,500])) # 135 = 255 * 0.529"
   ]
  },
  {
   "cell_type": "markdown",
   "metadata": {},
   "source": [
    "## Normalize: Normalize a tensor image with mean & standard deviation.tensor归一化处理\n",
    "Normalize a tensor image with mean and standard deviation. <br>\n",
    "input[channel] = (input[channel] - mean[channel]) / std[channel] <br>\n",
    "处理对象是tensor. <br>\n"
   ]
  },
  {
   "cell_type": "code",
   "execution_count": null,
   "metadata": {},
   "outputs": [],
   "source": [
    "normalize = transforms.Normalize(mean=(0.5, 0.5, 0.5), std=(0.5, 0.5, 0.5), inplace=False)\n",
    "# mean和std都设为0.5相当于是把数据从[0.0,1.0]放缩到[-1.0,1.0]\n",
    "t = normalize(img_tensor)\n",
    "print('{} before normalize and {} after'.format(img_tensor[0,500,500],t[0,500,500]))"
   ]
  },
  {
   "cell_type": "markdown",
   "metadata": {},
   "source": [
    "## Compose:Composes several transforms together.  集合transform操作\n",
    "Parameters：transforms (list of Transform objects) – list of transforms to compose. <br>\n",
    "按照列表给出的操作顺序依次进行transform操作"
   ]
  },
  {
   "cell_type": "code",
   "execution_count": null,
   "metadata": {},
   "outputs": [],
   "source": [
    "compose = transforms.Compose([\n",
    "    transforms.Pad(padding=100, fill=(0,0,0)),\n",
    "    transforms.RandomHorizontalFlip(p=1),\n",
    "    transforms.Resize((200,200), interpolation=2)   \n",
    "])\n",
    "img_8 = compose(img)\n",
    "plt.imshow(img_8)"
   ]
  }
 ],
 "metadata": {
  "file_extension": ".py",
  "kernelspec": {
   "display_name": "Python 3",
   "language": "python",
   "name": "python3"
  },
  "language_info": {
   "codemirror_mode": {
    "name": "ipython",
    "version": 3
   },
   "file_extension": ".py",
   "mimetype": "text/x-python",
   "name": "python",
   "nbconvert_exporter": "python",
   "pygments_lexer": "ipython3",
   "version": "3.6.9"
  },
  "mimetype": "text/x-python",
  "name": "python",
  "npconvert_exporter": "python",
  "pygments_lexer": "ipython3",
  "version": 3
 },
 "nbformat": 4,
 "nbformat_minor": 2
}
